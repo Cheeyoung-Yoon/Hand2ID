#!/usr/bin/env python
# coding: utf-8

# In[1]:


import numpy as np
from PIL import Image
import pandas as pd
import matplotlib.pyplot as plt
from numpy import asarray
from image_tools.sizes import resize_and_crop
import os
import glob
# from clustergram import Clustergram
# import urbangrammar_graphics as ugg
# import seaborn as sns
# from sklearn.preprocessing import scale
# import matplotlib.pyplot as plt


# In[2]:


path = 'C:/Users/parth/Desktop/OCR/raw_Image'
number_of_sample_from_one_img = 1500

#img_size= 
sampling_size = 150
grouping_range = 4


# In[3]:


####file creater
def check_dir(file_name,records):
    directory = os.path.dirname(file_name)
    if not os.path.exists(file_name):
        try:
            os.makedirs(directory)
        except:
            pass
    
        names.to_csv(file_name,index=False,header=False,encoding="utf-8")
        #dat.to_csv(file_name,index=False,header=False,encoding="cp949")
        
        
def save(file_name, records):
    check_dir(file_name,records)
    records.to_csv(file_name, mode='a',index=False,header=False,encoding="utf-8")
    #records.to_csv(file_name, mode='a',index=False,header=False,encoding="cp949-8")


#####image to corrdinate then to histogrammic data
def img2corr(image_name,value,number_of_sample_from_one_img,sampling_size,grouping_range):     
    im = resize_and_crop(image_name,(100,100),crop_origin='middle').convert('LA')
    im.save('greyscale.png')
    #img 사이즈 및 픽셀값 불러오기
    width, height = im.size
    pixel_values = list(im.getdata())
    pixel_flat = [num for elem in pixel_values for num in elem]
    av = sum(pixel_flat)/len(pixel_flat)

    pixel_values = np.array(im)
    #하얀색으로 처리할 수 (0~510)
    whiteval = av*0.85
    #pixel_values = numpy.array(pixel_values).reshape((width, height, 1))
    y= 0
    dat = pd.DataFrame([["X","Y"]])
    for i in range(0,height):
        for j in range(0,width): 
            pixval = sum(pixel_values[i][j])/2
            if (pixval > whiteval):
                y=y+1
            else:
                tmp = pd.DataFrame([[j,height-i]])
                dat= dat.append(tmp)
    dat=dat.rename(columns=dat.iloc[0])
    dat = dat.iloc[1: , :]
    
    dat.X = (dat.X-min(dat.X))*100/max(dat.X)
    dat.Y = (dat.Y-min(dat.Y))*100/max(dat.Y)
    
    for j in range(0,number_of_sample_from_one_img):
        adj_val = len(dat)/sampling_size
        dat_sample =dat.sample(n=sampling_size)
        Xaxis = dat_sample.groupby(pd.cut(dat_sample["X"], np.arange(0,100,grouping_range))).size()
        Yaxis = dat_sample.groupby(pd.cut(dat_sample["Y"], np.arange(0,100,grouping_range))).size()

        Xaxis = Xaxis.to_frame()
        Yaxis = Yaxis.to_frame()



        # Xaxis = Xaxis.reset_index(level='X')
        # Yaxis = Yaxis.reset_index(level='Y')
        # Xaxis.columns = ['range','X']
        # Yaxis.columns = ['range','Y']
        Xaxis.columns = ['size']
        Yaxis.columns = ['size']

        x = Xaxis.transpose()
        y = Yaxis.transpose()
        
        xy = pd.concat([x,y],axis=1)
        
        xy = xy*adj_val
        
        xy.columns = xy.columns.add_categories('val')
        xy['val'] = value
        
        return(xy)    


# In[4]:


images = glob.glob(path + "/*jpg")


# In[5]:


#import image & change to grayscale(흑백)
for i in range(0,len(images)):
    image_name = images[i].replace(path+"\\","")
    image_path = images[i]
    value = image_name.replace("number","")
    value = value.replace(".jpg","")
    print(value, ...)
    xy =  img2corr(image_path,value,number_of_sample_from_one_img,sampling_size,grouping_range)
    
    
        
    names = pd.DataFrame([xy.columns.values]).transpose()        
    save(f'C:/Users/parth/Desktop/OCR/dataset/whole/{image_name}'+'_xy.csv',xy)




# print(dat)
# plt.xlim(0, width)
# plt.ylim(0,height)
# plt.scatter(dat.X,dat.Y)
# im

# In[x]:
    
    
    
    